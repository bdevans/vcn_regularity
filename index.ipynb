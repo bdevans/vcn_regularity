{
 "cells": [
  {
   "cell_type": "markdown",
   "metadata": {
    "heading_collapsed": false,
    "level": 1.0
   },
   "source": [
    "# Regularity analysis: interactive notebook\n",
    "\n",
    "The code below can be edited and run interactively, and creates a graphical interface for exploring a mathematical neuroscience model. To try it out, click the \"Cell\" menu, then \"Run all\", and scroll down to the bottom. You can see the effect of changing the parameters $\\tau$ and ``refractory``.\n",
    "\n",
    "This is being computed and run as you change the parameters, so there is a few seconds delay in showing the results after changing the parameters. By default it runs in \"fast\" mode so the quality is low. If you want to look in more detail at a particular set of parameters, use the drop down list to select a higher quality (but it will take longer to compute it).\n",
    "\n",
    "Specifically, it is showing the coefficient of variation of the interspike interval distribution for a noise-driven leaky integrate and fire neuron following the stochastic differential equation:\n",
    "\n",
    "$$\\tau\\frac{\\mathrm{d}v}{\\mathrm{d}t}=\\mu-v+\\sigma\\,\\xi\\,\\tau^{-1/2}$$\n",
    "\n",
    "Spikes are emitted when $v\\ge 1$ and $v$ is then reset to 0 and held for ``refractory``.\n",
    "\n",
    "The solid lines show contours for the CV, and the dashed lines show contours for the firing rate of this neuron."
   ]
  },
  {
   "cell_type": "code",
   "execution_count": null,
   "metadata": {
    "collapsed": false,
    "level": 7.0
   },
   "outputs": [],
   "source": [
    "%matplotlib inline\n",
    "from brian2 import *\n",
    "from brian2tools import *\n",
    "from scipy.ndimage.interpolation import zoom\n",
    "from scipy.ndimage.filters import gaussian_filter\n",
    "from ipywidgets import interact, interactive, fixed\n",
    "import ipywidgets\n",
    "from IPython.display import display\n",
    "from matplotlib import cm\n",
    "from collections import OrderedDict\n",
    "import warnings\n",
    "warnings.filterwarnings(\"ignore\")\n",
    "prefs.codegen.target = 'numpy'"
   ]
  },
  {
   "cell_type": "code",
   "execution_count": null,
   "metadata": {
    "collapsed": true,
    "level": 7.0
   },
   "outputs": [],
   "source": [
    "def nan_gaussian_filter(x, sigma, num_passes):\n",
    "    z = full_like(x, nan)\n",
    "    for cursigma in linspace(sigma, 0, num_passes+1)[:-1]:\n",
    "        y = gaussian_filter(x, cursigma, mode='nearest')\n",
    "        z[isnan(z)] = y[isnan(z)]\n",
    "    return z"
   ]
  },
  {
   "cell_type": "code",
   "execution_count": null,
   "metadata": {
    "collapsed": false,
    "level": 7.0
   },
   "outputs": [],
   "source": [
    "def map_mu_sigma(tau_ms, t_ref_ms,\n",
    "                 #duration_ms=150, skip_ms=50, N=20, blur_width=0.1,\n",
    "                 quality=1,\n",
    "                ):\n",
    "    tau = tau_ms*ms\n",
    "    t_ref = t_ref_ms*ms\n",
    "    if quality==0:\n",
    "        N = 15\n",
    "        duration = 50*ms\n",
    "        skip = 25*ms\n",
    "        blur_width = 0.05\n",
    "    elif quality==1:\n",
    "        N = 20\n",
    "        duration = 100*ms\n",
    "        skip = 50*ms\n",
    "        blur_width = 0.1\n",
    "    elif quality==2:\n",
    "        N = 30\n",
    "        duration = 200*ms\n",
    "        skip = 50*ms\n",
    "        blur_width = 0.1\n",
    "    elif quality==3:\n",
    "        N = 50\n",
    "        duration = 1000*ms\n",
    "        skip = 100*ms\n",
    "        blur_width = 0.05\n",
    "    mu_range = linspace(0.5, 4, N)\n",
    "    s_range = linspace(0, 1.2, N)\n",
    "    all_s, all_mu = meshgrid(s_range, mu_range)\n",
    "    all_sigma = all_s*all_mu\n",
    "    eqs = '''\n",
    "    dv/dt = (mu-v)/tau+sigma*tau**-0.5*xi : 1 (unless refractory)\n",
    "    mu : 1\n",
    "    sigma : 1\n",
    "    '''\n",
    "    G = NeuronGroup(N*N, eqs, threshold='v>1', reset='v=0', refractory=t_ref,\n",
    "                    method='euler')\n",
    "    G.mu = all_mu.flatten()\n",
    "    G.sigma = all_sigma.flatten()\n",
    "    run(skip)\n",
    "    M = SpikeMonitor(G)\n",
    "    run(duration-skip)\n",
    "    rate = array(reshape(M.count[:]/(duration-skip), (N, N)))\n",
    "    trains = M.spike_trains()\n",
    "    cvs = zeros(N*N)\n",
    "    for i in xrange(N*N):\n",
    "        isi = diff(sorted(trains[i]))\n",
    "        cvs[i] = std(isi)/mean(isi)\n",
    "    cvs.shape = rate.shape\n",
    "    if blur_width:\n",
    "        rate = nan_gaussian_filter(rate, blur_width*N, 10)\n",
    "        cvs = nan_gaussian_filter(cvs, blur_width*N, 10)\n",
    "    rate = zoom(rate, 100./N, order=1)\n",
    "    cvs = zoom(cvs, 100./N, order=1)\n",
    "    imshow(cvs, origin='lower left', interpolation='nearest', aspect='auto',\n",
    "           extent=(amin(s_range), amax(s_range), amin(mu_range), amax(mu_range)),\n",
    "           cmap=cm.YlGnBu_r, vmin=0, vmax=1)\n",
    "    ylabel(r'$\\mu$')\n",
    "    xlabel(r'$\\sigma/\\mu$')\n",
    "    cb = colorbar()\n",
    "    cb.set_label('CV', rotation=270, labelpad=20)    \n",
    "    cs_cv = contour(cvs, origin='lower', aspect='auto',\n",
    "                    levels=[0.35, 0.8], #colors=['w']*len(cv_levels),\n",
    "                    colors='k',\n",
    "                    extent=(amin(s_range), amax(s_range), amin(mu_range), amax(mu_range)),\n",
    "                    )\n",
    "    clabel(cs_cv, colors='k', inline=True, fmt='%.2f')\n",
    "    cs_rate = contour(rate, origin='lower', aspect='auto', linestyles='dashed',\n",
    "                      levels=[50, 400], colors='k',\n",
    "                      extent=(amin(s_range), amax(s_range), amin(mu_range), amax(mu_range)),\n",
    "                      )\n",
    "    clabel(cs_rate, colors='k', inline=True, fmt='%d sp/s')"
   ]
  },
  {
   "cell_type": "code",
   "execution_count": null,
   "metadata": {
    "collapsed": false,
    "level": 7.0
   },
   "outputs": [],
   "source": [
    "interact(map_mu_sigma,\n",
    "         tau_ms=ipywidgets.FloatSlider(value=5, min=0.1, max=20, step=0.1, continuous_update=False,\n",
    "                                       description=r\"$\\tau$ (ms)\"),\n",
    "         t_ref_ms=ipywidgets.FloatSlider(value=0.1, min=0, max=5, step=0.1, continuous_update=False,\n",
    "                                         description=r\"refractory (ms)\"),\n",
    "         quality=ipywidgets.Dropdown(options=OrderedDict([('Very fast', 0),\n",
    "                                                          ('Fast', 1),\n",
    "                                                          ('Medium', 2),\n",
    "                                                          ('High / slow', 3)]),\n",
    "                                     value=1, description=\"Quality\"),\n",
    "        );"
   ]
  }
 ],
 "metadata": {
  "kernelspec": {
   "display_name": "Python 2",
   "language": "python",
   "name": "python2"
  },
  "language_info": {
   "codemirror_mode": {
    "name": "ipython",
    "version": 2.0
   },
   "file_extension": ".py",
   "mimetype": "text/x-python",
   "name": "python",
   "nbconvert_exporter": "python",
   "pygments_lexer": "ipython2",
   "version": "2.7.12"
  }
 },
 "nbformat": 4,
 "nbformat_minor": 0
}