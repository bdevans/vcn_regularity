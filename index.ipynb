{
 "cells": [
  {
   "cell_type": "markdown",
   "metadata": {
    "heading_collapsed": false,
    "level": 1
   },
   "source": [
    "# Modelling firing regularity in the ventral cochlear nucleus: mechanisms, and effects of stimulus level and synaptopathy\n",
    "\n",
    "**Dan F. M. Goodman, Ian M. Winter, Agnès C. Léger, Alain de Cheveigné, Christian Lorenzi**"
   ]
  },
  {
   "cell_type": "markdown",
   "metadata": {
    "heading_collapsed": false,
    "level": 7
   },
   "source": [
    "See the published version of the paper [here](https://doi.org/10.1016/j.heares.2017.09.010), and the freely accessible preprint [here](https://www.biorxiv.org/content/early/2017/09/19/121707).\n",
    "\n",
    "The interactive paper has four notebooks, each providing interactive versions of some of the figures in the paper. The notebooks are listed below:\n",
    "\n",
    "1. [Basic model](basic_model.ipynb)\n",
    "2. [Behaviour maps](maps.ipynb)\n",
    "3. [Level dependence](level_dependence_density.ipynb)\n",
    "4. [Deafferentation](deafferentation.ipynb)"
   ]
  }
 ],
 "metadata": {
  "anaconda-cloud": {},
  "celltoolbar": "Initialisation Cell",
  "hide_input": false,
  "kernelspec": {
   "display_name": "Python 2",
   "language": "python",
   "name": "python2"
  },
  "language_info": {
   "codemirror_mode": {
    "name": "ipython",
    "version": 2
   },
   "file_extension": ".py",
   "mimetype": "text/x-python",
   "name": "python",
   "nbconvert_exporter": "python",
   "pygments_lexer": "ipython2",
   "version": "2.7.14"
  }
 },
 "nbformat": 4,
 "nbformat_minor": 1
}
