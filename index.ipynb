{
 "cells": [
  {
   "cell_type": "markdown",
   "metadata": {},
   "source": [
    "# Changes in firing regularity in the normal and impaired auditory system\n",
    "\n",
    "**Dan F. M. Goodman, Ian M. Winter, Agnès C. Léger, Alain de Cheveigné, Christian Lorenzi**"
   ]
  },
  {
   "cell_type": "markdown",
   "metadata": {
    "heading_collapsed": false,
    "level": 1
   },
   "source": [
    "See the preprint of the paper [here](https://dl.dropboxusercontent.com/u/556426/vcn_regularity_preprint.pdf).\n",
    "\n",
    "The interactive paper has four notebooks, each providing interactive versions of some of the figures in the paper. The notebooks are listed below:\n",
    "\n",
    "1. [Basic model](basic_model.ipynb)\n",
    "2. [Behaviour maps](maps.ipynb)\n",
    "3. [Level dependence](level_dependence.ipynb)\n",
    "4. [Deafferentation](deafferentation.ipynb)"
   ]
  }
 ],
 "metadata": {
  "anaconda-cloud": {},
  "celltoolbar": "Initialisation Cell",
  "hide_input": false,
  "kernelspec": {
   "display_name": "Python [default]",
   "language": "python",
   "name": "python2"
  },
  "language_info": {
   "codemirror_mode": {
    "name": "ipython",
    "version": 2
   },
   "file_extension": ".py",
   "mimetype": "text/x-python",
   "name": "python",
   "nbconvert_exporter": "python",
   "pygments_lexer": "ipython2",
   "version": "2.7.12"
  }
 },
 "nbformat": 4,
 "nbformat_minor": 0
}
