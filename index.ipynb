{
 "cells": [
  {
   "cell_type": "markdown",
   "metadata": {
    "deletable": true,
    "editable": true,
    "heading_collapsed": false,
    "level": 1
   },
   "source": [
    "# Changes in firing regularity in the normal and impaired auditory system\n",
    "\n",
    "**Dan F. M. Goodman, Ian M. Winter, Agnès C. Léger, Alain de Cheveigné, Christian Lorenzi**"
   ]
  },
  {
   "cell_type": "markdown",
   "metadata": {
    "deletable": true,
    "editable": true,
    "heading_collapsed": false,
    "level": 7
   },
   "source": [
    "See the preprint of the paper [here](http://biorxiv.org/content/early/2017/03/28/121707).\n",
    "\n",
    "The interactive paper has six notebooks, providing interactive versions of some of the figures in the paper. The notebooks are listed below:\n",
    "\n",
    "1. [Basic model](basic_model.ipynb)\n",
    "2. [Behaviour maps](maps.ipynb)\n",
    "3. [Level dependence](level_dependence_density.ipynb)\n",
    "4. [Deafferentation](deafferentation.ipynb)\n",
    "5. [The effect of deafferentation on modulation transfer function](amplitude_modulation.ipynb)\n",
    "6. [Analytical solution to basic model](analytical_solution.ipynb)"
   ]
  }
 ],
 "metadata": {
  "anaconda-cloud": {},
  "celltoolbar": "Initialisation Cell",
  "hide_input": false,
  "kernelspec": {
   "display_name": "Python [default]",
   "language": "python",
   "name": "python2"
  },
  "language_info": {
   "codemirror_mode": {
    "name": "ipython",
    "version": 2
   },
   "file_extension": ".py",
   "mimetype": "text/x-python",
   "name": "python",
   "nbconvert_exporter": "python",
   "pygments_lexer": "ipython2",
   "version": "2.7.12"
  }
 },
 "nbformat": 4,
 "nbformat_minor": 0
}
