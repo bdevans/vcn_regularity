{
 "cells": [
  {
   "cell_type": "markdown",
   "metadata": {},
   "source": [
    "**Note.** *The following notebook contains code in addition to text and figures. By default, the code has been hidden. You can click the icon that looks like an eye in the toolbar above to show the code.*"
   ]
  },
  {
   "cell_type": "code",
   "execution_count": null,
   "metadata": {
    "collapsed": true,
    "init_cell": true
   },
   "outputs": [],
   "source": [
    "# Import packages, set preferences, etc.\n",
    "%matplotlib inline\n",
    "from brian2 import *\n",
    "import ipywidgets as ipw\n",
    "from numpy.random import poisson\n",
    "import warnings\n",
    "warnings.filterwarnings(\"ignore\")\n",
    "\n",
    "prefs.codegen.target = 'weave'\n",
    "defaultclock.dt = 0.05*ms"
   ]
  },
  {
   "cell_type": "code",
   "execution_count": null,
   "metadata": {
    "collapsed": false,
    "init_cell": true
   },
   "outputs": [],
   "source": [
    "%%html\n",
    "<!-- hack to improve styling of ipywidgets sliders -->\n",
    "<style type=\"text/css\">\n",
    ".widget-hbox .widget-label {\n",
    "    min-width: 35ex;\n",
    "    max-width: 35ex;\n",
    "}\n",
    ".widget-hslider {\n",
    "    width: 100%;\n",
    "}\n",
    "</style>"
   ]
  },
  {
   "cell_type": "markdown",
   "metadata": {},
   "source": [
    "# Basic model\n",
    "\n",
    "We start from the following model of a chopper cell in the ventral cochlear nucleus. The cell is a leaky integrate and fire neuron, defined by the differential equation $$\\tau\\frac{\\mathrm{d}v}{\\mathrm{d}t}=-v.$$ If $v>1$ it fires a spike and instantly resets to $v\\leftarrow 0$ and is held there for time $t_\\mathrm{ref}$. It receives $N$ excitatory and $N$ inhibitory synapses from neurons that fire Poisson spikes at rates $\\rho_E$ and $\\rho_I$ respectively. The excitatory synapses have weight $w$ and the inhibitory $-w$, so an incoming spike causes an instantaneous change $v\\leftarrow v\\pm w$. We will sometimes write the inhibitory fraction $\\alpha=\\rho_I/\\rho_E$ and reparametrise the pair $(\\rho_E, \\rho_I)$ as $(\\rho, \\alpha)$ where $\\rho_E=\\rho$ and $\\rho_I=\\alpha\\rho$.\n",
    "\n",
    "The following interactive figure allows you to visualise the behaviour of this model for different values of the parameters $\\tau$, $N$, $w$, $\\rho$, $\\alpha$, $t_\\mathrm{ref}$."
   ]
  },
  {
   "cell_type": "code",
   "execution_count": null,
   "metadata": {
    "collapsed": false,
    "init_cell": true
   },
   "outputs": [],
   "source": [
    "def basic_model(N=50, tau_ms=10, w=0.02, rho_Hz=200, alpha=0.0, t_ref_ms=0.1):\n",
    "    # Set parameters\n",
    "    repeats = 100\n",
    "    duration = 100*ms\n",
    "    tau = tau_ms*ms\n",
    "    rho = rho_Hz*Hz\n",
    "    t_ref = t_ref_ms*ms\n",
    "    # Define and run the model\n",
    "    eqs = '''\n",
    "    dv/dt = -v/tau : 1 (unless refractory)\n",
    "    '''\n",
    "    G = NeuronGroup(100, eqs, threshold='v>1', reset='v=0',\n",
    "                    refractory=t_ref, method='euler')\n",
    "    Pe = PoissonInput(G, 'v', N, rho, weight=w)\n",
    "    if alpha:\n",
    "        Pi = PoissonInput(G, 'v', N, rho*alpha, weight=-w)\n",
    "    spikemon = SpikeMonitor(G)\n",
    "    statemon = StateMonitor(G, 'v', record=[0])\n",
    "    run(duration)\n",
    "    # Compute ISI histograms\n",
    "    isi = []\n",
    "    for train in spikemon.spike_trains().values():\n",
    "        train.sort()\n",
    "        isi.append(diff(train))\n",
    "    isi = hstack(isi)\n",
    "    cv = std(isi)/mean(isi)\n",
    "    # Plot results\n",
    "    figure(figsize=(10, 2.5))\n",
    "    subplot(131)\n",
    "    plot(spikemon.t/ms, spikemon.i, '.k')\n",
    "    xlabel('Time (ms)')\n",
    "    ylabel('Repeat number')\n",
    "    title('Spike raster plot')\n",
    "    xlim(0, duration/ms)\n",
    "    ylim(0, repeats)\n",
    "    \n",
    "    subplot(132)\n",
    "    plot(statemon.t/ms, statemon.v.T, '-k')\n",
    "    xlabel('Time (ms)')\n",
    "    ylabel('v')\n",
    "    title('Membrane potential trace')\n",
    "    xlim(0, duration/ms)\n",
    "    ylim(-0.2, 1.2)\n",
    "    axhline(0, ls=':', c='r')\n",
    "    axhline(1, ls=':', c='g')\n",
    "    \n",
    "    subplot(133)\n",
    "    hist(isi/ms, fc='k', bins=arange(60)*0.5)\n",
    "    yticks([])\n",
    "    ylabel('Frequency')\n",
    "    xlabel('ISI (ms)')\n",
    "    title('Interspike interval histogram')\n",
    "    #title('CV = %.2f' % cv)\n",
    "    text(0.95, 0.9, 'CV = %.2f' % cv, ha='right', va='top',\n",
    "         bbox=dict(facecolor='white'),\n",
    "         transform=gca().transAxes)\n",
    "    tight_layout()\n",
    "\n",
    "ipw.interact(basic_model,\n",
    "             N=ipw.IntSlider(\n",
    "                 min=1, max=100, step=1, value=50,\n",
    "                 continuous_update=False,\n",
    "                 description=\"Number of inputs $N$\"),\n",
    "             tau_ms=ipw.FloatSlider(\n",
    "                 min=0.1, max=20.0, step=0.1, value=10.0,\n",
    "                 continuous_update=False,\n",
    "                 description=r\"Membrane time constant $\\tau$ (ms)\"),\n",
    "             rho_Hz=ipw.FloatSlider(\n",
    "                 min=10, max=500, step=10, value=200.0,\n",
    "                 continuous_update=False,\n",
    "                 description=r\"Excitatory input firing rate $\\rho$ (sp/s)\"),\n",
    "             w=ipw.FloatSlider(\n",
    "                 min=0, max=1, step=0.01, value=0.02,\n",
    "                 continuous_update=False,\n",
    "                 description=r\"Synaptic weight $w$\"),\n",
    "             alpha=ipw.FloatSlider(\n",
    "                 min=0, max=1.5, step=0.05, value=0,\n",
    "                 continuous_update=False,\n",
    "                 description=r\"Inhibitory fraction $\\alpha$\"),\n",
    "             t_ref_ms=ipw.FloatSlider(\n",
    "                 min=0, max=5, step=0.05, value=0.1,\n",
    "                 continuous_update=False,\n",
    "                 description=r\"Refractory period $t_\\mathrm{ref}$ (ms)\"),\n",
    "             );"
   ]
  },
  {
   "cell_type": "markdown",
   "metadata": {},
   "source": [
    "## Diffusion approximation\n",
    "\n",
    "Some text explaining diffusion approximation here."
   ]
  },
  {
   "cell_type": "code",
   "execution_count": null,
   "metadata": {
    "collapsed": false,
    "init_cell": true
   },
   "outputs": [],
   "source": [
    "def diffusion_panel(num_inputs=10, tau_ms=10, rate_Hz=100, duration_ms=200):\n",
    "    tau = tau_ms*ms\n",
    "    rate = rate_Hz*Hz\n",
    "    duration = duration_ms*ms\n",
    "    weight = 1.0\n",
    "    mu = weight*rate*num_inputs*tau\n",
    "    sigma = weight*sqrt(rate*num_inputs*tau)\n",
    "    nsteps = int(ceil(duration/defaultclock.dt))\n",
    "    I = TimedArray(weight*poisson(num_inputs*rate*defaultclock.dt, size=nsteps)*tau/defaultclock.dt,\n",
    "                   dt=defaultclock.dt)\n",
    "    eqs = '''\n",
    "    dv/dt = -v/tau : 1\n",
    "    dw/dt = (mu-w)/tau+sigma*xi*tau**-0.5 : 1\n",
    "    du/dt = (I(t)-u)/tau : 1\n",
    "    '''\n",
    "    P = PoissonGroup(num_inputs, rate)\n",
    "    G = NeuronGroup(1, eqs, method='euler')\n",
    "    S = Synapses(P, G, 'dummy:1', on_pre='v += weight')\n",
    "    S.connect()\n",
    "    M = StateMonitor(G, ['v', 'w', 'u'], record=True)\n",
    "    Network(P, G, S, M).run(duration)\n",
    "    plot(M.t/ms, M.v[0], label=\"Original\")\n",
    "    plot(M.t/ms, M.w[0], label=\"Diffusion approximation\")\n",
    "    yticks([])\n",
    "    xlabel('Time (ms)')\n",
    "    ylabel('Membrane potential')\n",
    "    legend(loc='upper left')\n",
    "    \n",
    "ipw.interact(diffusion_panel,\n",
    "             num_inputs=ipw.IntSlider(min=1, max=50, step=1, value=10,\n",
    "                                      continuous_update=False,\n",
    "                                      description=\"Num inputs $N$\"),\n",
    "             tau_ms=ipw.FloatSlider(min=0.1, max=20.0, step=0.1, value=10.0,\n",
    "                                    continuous_update=False,\n",
    "                                    description=r\"Membrane time constant $\\tau$ (ms)\"),\n",
    "             rate_Hz=ipw.FloatSlider(min=10, max=500, step=10, value=100.0,\n",
    "                                     continuous_update=False,\n",
    "                                     description=r\"Input firing rate $\\rho$ (sp/s)\"),\n",
    "             duration_ms=ipw.FloatSlider(min=50, max=500, step=50, value=200,\n",
    "                                         continuous_update=False,\n",
    "                                         description=r\"Duration (ms)\"),\n",
    "             );"
   ]
  }
 ],
 "metadata": {
  "anaconda-cloud": {},
  "celltoolbar": "Initialisation Cell",
  "hide_input": true,
  "kernelspec": {
   "display_name": "Python [default]",
   "language": "python",
   "name": "python2"
  },
  "language_info": {
   "codemirror_mode": {
    "name": "ipython",
    "version": 2
   },
   "file_extension": ".py",
   "mimetype": "text/x-python",
   "name": "python",
   "nbconvert_exporter": "python",
   "pygments_lexer": "ipython2",
   "version": "2.7.12"
  }
 },
 "nbformat": 4,
 "nbformat_minor": 0
}
