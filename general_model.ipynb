{
 "cells": [
  {
   "cell_type": "markdown",
   "metadata": {
    "level": 7
   },
   "source": [
    "TODO:\n",
    "* Order of controls for interactive?\n",
    "* Text explaining it all"
   ]
  },
  {
   "cell_type": "markdown",
   "metadata": {
    "heading_collapsed": false,
    "level": 1
   },
   "source": [
    "# General version of VCN model"
   ]
  },
  {
   "cell_type": "markdown",
   "metadata": {
    "level": 7
   },
   "source": [
    "Imports and utility functions"
   ]
  },
  {
   "cell_type": "code",
   "execution_count": null,
   "metadata": {
    "collapsed": true,
    "level": 7
   },
   "outputs": [],
   "source": [
    "%matplotlib inline\n",
    "from brian2 import *\n",
    "from model_explorer_jupyter import *\n",
    "import joblib\n",
    "import ipywidgets as ipw\n",
    "from collections import OrderedDict\n",
    "from scipy.ndimage.interpolation import zoom\n",
    "from scipy.ndimage.filters import gaussian_filter\n",
    "from matplotlib import cm\n",
    "import matplotlib.patches as patches\n",
    "import warnings\n",
    "warnings.filterwarnings(\"ignore\")\n",
    "prefs.codegen.target = 'numpy'\n",
    "BrianLogger.log_level_error()\n",
    "\n",
    "def nan_gaussian_filter(x, sigma, num_passes):\n",
    "    z = full_like(x, nan)\n",
    "    for cursigma in linspace(sigma, 0, num_passes+1)[:-1]:\n",
    "        y = gaussian_filter(x, cursigma, mode='nearest')\n",
    "        z[isnan(z)] = y[isnan(z)]\n",
    "    return z\n",
    "\n",
    "progress_slider, update_progress = brian2_progress_reporter()\n",
    "\n",
    "mem = joblib.Memory(cachedir=\"joblib\")"
   ]
  },
  {
   "cell_type": "markdown",
   "metadata": {
    "level": 7
   },
   "source": [
    "This is the raw model with 4 params, $\\mu$, $\\sigma$, $\\tau$ and $t_{ref}$."
   ]
  },
  {
   "cell_type": "code",
   "execution_count": null,
   "metadata": {
    "collapsed": true,
    "level": 7
   },
   "outputs": [],
   "source": [
    "@mem.cache\n",
    "def runmodel_raw(N, mu=2.0, sigma=0.1, tau_ms=6, refractory_ms=0.6,\n",
    "                 repeats=50, duration=150*ms, skip=50*ms):\n",
    "    tau = tau_ms*ms\n",
    "    refractory = refractory_ms*ms\n",
    "\n",
    "    eqs = '''\n",
    "    dv/dt = (mu-v)/tau+sigma*tau**-0.5*xi : 1 (unless refractory)\n",
    "    refrac : second\n",
    "    tau : second\n",
    "    mu : 1\n",
    "    sigma : 1\n",
    "    '''\n",
    "    \n",
    "    G = NeuronGroup(N, eqs, threshold='v>1', reset='v=0',\n",
    "                    refractory='refrac', method='Euler')\n",
    "    G.refrac = refractory\n",
    "    G.tau = tau\n",
    "    G.mu = mu\n",
    "    G.sigma = sigma\n",
    "    M = SpikeMonitor(G)\n",
    "    \n",
    "    run(duration, report=update_progress, report_period=1*second)\n",
    "    \n",
    "    CV = zeros(N)\n",
    "    FR = zeros(N)\n",
    "    trains = M.spike_trains()\n",
    "    for i in xrange(N):\n",
    "        t = trains[i]\n",
    "        t = t[t>skip]\n",
    "        isi = diff(t)\n",
    "        CV[i] = std(isi)/mean(isi)\n",
    "        FR[i] = len(t)/(duration-skip)\n",
    "    return CV, FR\n",
    "\n",
    "def runmodel_raw_rel(N, mu=2.0, sigma_mu=0.1, tau_ms=6, refractory_ms=0.6,\n",
    "                     repeats=50, duration=150*ms, skip=50*ms):\n",
    "    return runmodel_raw(N, mu=mu, sigma=sigma_mu*mu, tau_ms=tau_ms,\n",
    "                        refractory_ms=refractory_ms, repeats=repeats,\n",
    "                        duration=duration, skip=skip)"
   ]
  },
  {
   "cell_type": "markdown",
   "metadata": {
    "level": 7
   },
   "source": [
    "This is the standard model with many non-independent parameters that calls back to the raw model."
   ]
  },
  {
   "cell_type": "code",
   "execution_count": null,
   "metadata": {
    "collapsed": true,
    "level": 7
   },
   "outputs": [],
   "source": [
    "def runmodel_std(N, mu=2.0, num_anf=50, tau_ms=6,\n",
    "                 inh=0.0, inh_skew=1.0,\n",
    "                 refractory_ms=0.6, anf_rate_hz=250,\n",
    "                 repeats=50, duration=150*ms, skip=50*ms):\n",
    "    tau = tau_ms*ms\n",
    "    refractory = refractory_ms*ms\n",
    "    anf_rate = anf_rate_hz*Hz\n",
    "    \n",
    "    tau_exc = tau_inh = tau\n",
    "    weight = mu/(num_anf*tau*anf_rate*(1-inh))\n",
    "    weight_exc = weight\n",
    "    weight_inh = inh_skew*weight\n",
    "    num_anf_exc = num_anf\n",
    "    num_anf_inh = num_anf/inh_skew\n",
    "    anf_rate_exc = anf_rate\n",
    "    anf_rate_inh = anf_rate*inh\n",
    "    mu_exc = weight_exc*num_anf_exc*tau_exc*anf_rate_exc\n",
    "    mu_inh = weight_inh*num_anf_inh*tau_inh*anf_rate_inh\n",
    "    sigma2_exc = weight_exc*mu_exc\n",
    "    sigma2_inh = weight_inh*mu_inh\n",
    "    mu = mu_exc-mu_inh\n",
    "    sigma = sqrt(sigma2_exc+sigma2_inh)\n",
    "    return runmodel_raw(N, mu=mu, sigma=sigma, tau_ms=tau_ms,\n",
    "                        refractory_ms=refractory_ms,\n",
    "                        repeats=repeats, duration=duration, skip=skip)"
   ]
  },
  {
   "cell_type": "markdown",
   "metadata": {
    "level": 7
   },
   "source": [
    "GUI and plotting code"
   ]
  },
  {
   "cell_type": "code",
   "execution_count": null,
   "metadata": {
    "collapsed": false,
    "level": 7
   },
   "outputs": [],
   "source": [
    "sliders = OrderedDict([\n",
    "        ('mu', ipw.FloatSlider(description=r\"Total mean current\",\n",
    "                               min=0.1, max=10, step=0.1, value=2.0)),\n",
    "        ('tau_ms', ipw.FloatSlider(description=r\"Membrane time constant (ms)\",\n",
    "                                   min=0.1, max=50.0, step=0.1, value=6)),\n",
    "        ('num_anf', ipw.IntSlider(description=r\"Number of auditory nerve fibres\",\n",
    "                                  min=1, max=100, step=1, value=50)),\n",
    "        ('inh', ipw.FloatSlider(description=r\"Inhibitory fraction\",\n",
    "                                min=0, max=1, step=0.1, value=0)),\n",
    "        ('refractory_ms', ipw.FloatSlider(description=r\"Refractory period (ms)\",\n",
    "                                          min=0, max=5, step=0.1, value=0.6)),\n",
    "        ('anf_rate_hz', ipw.FloatSlider(description=r\"Auditory nerve firing rate (sp/s)\",\n",
    "                                        min=10, max=500, step=10, value=250)),\n",
    "        ('sigma_mu', ipw.FloatSlider(description=r\"Total noise relative to mean\",\n",
    "                                     min=0, max=2, step=0.05, value=0.1)),\n",
    "        ])\n",
    "range_sliders = OrderedDict([\n",
    "        ('mu', ipw.FloatRangeSlider(description=r\"Total mean current\",\n",
    "                                    min=0.1, max=10, step=0.1, value=(0.5, 3.0))),\n",
    "        ('tau_ms', ipw.FloatRangeSlider(description=r\"Membrane time constant (ms)\",\n",
    "                                        min=0.1, max=50.0, step=0.1, value=(1, 10))),\n",
    "        ('num_anf', ipw.IntRangeSlider(description=r\"Number of auditory nerve fibres\",\n",
    "                                       min=1, max=100, step=1, value=(3, 50))),\n",
    "        ('inh', ipw.FloatRangeSlider(description=r\"Inhibitory fraction\",\n",
    "                                     min=0, max=1, step=0.1, value=(0, 0.8))),\n",
    "        ('refractory_ms', ipw.FloatRangeSlider(description=r\"Refractory period (ms)\",\n",
    "                                               min=0, max=5, step=0.1, value=(0.1, 1.0))),\n",
    "        ('anf_rate_hz', ipw.FloatRangeSlider(description=r\"Auditory nerve firing rate (sp/s)\",\n",
    "                                             min=10, max=500, step=10, value=(50, 400))),\n",
    "        ('sigma_mu', ipw.FloatRangeSlider(description=r\"Total noise relative to mean\",\n",
    "                                          min=0, max=2, step=0.05, value=(0, 1))),\n",
    "        ])\n",
    "quality_slider = ipw.Dropdown(description=\"Quality\",\n",
    "                              options=[\"Fast\", \"Normal\", \"Detailed\", \"Publication (very slow)\"],\n",
    "                              value='Normal')\n",
    "\n",
    "def savecurfig(fname):\n",
    "    curfig.savefig(fname)\n",
    "widget_savefig = save_fig_widget(savecurfig)\n",
    "\n",
    "vars_std = OrderedDict((k, v.description) for k, v in sliders.items() if k!='sigma_mu')\n",
    "vars_raw = OrderedDict((k, sliders[k].description) for k in ['mu', 'sigma_mu', 'tau_ms', 'refractory_ms'])\n",
    "\n",
    "vs2d_std = VariableSelector(vars_std, ['Horizontal axis', 'Vertical axis'], title=None,\n",
    "                            initial={'Horizontal axis': 'inh', 'Vertical axis': 'mu'})\n",
    "vs2d_raw = VariableSelector(vars_raw, ['Horizontal axis', 'Vertical axis'], title=None,\n",
    "                            initial={'Horizontal axis': 'sigma_mu', 'Vertical axis': 'mu'})\n",
    "\n",
    "options2d_std = {'var': vs2d_std.widgets_horizontal}\n",
    "options2d_raw = {'var': vs2d_raw.widgets_horizontal}\n",
    "\n",
    "def plot2d(modelfunc, vs2d):\n",
    "    def plotter(**kwds):\n",
    "        global curfig\n",
    "        smoothing = kwds.pop('smoothing')\n",
    "        quality_settings = {'Fast': (5, 0, 50*ms, 100*ms),\n",
    "                            'Normal': (20, 0.1, 50*ms, 200*ms),\n",
    "                            'Detailed': (40, 0.05, 100*ms, 1000*ms),\n",
    "                            'Publication (very slow)': (50, 0.05, 1*second, 50*second)}\n",
    "        M, blur_width, skip, duration = quality_settings[kwds.pop('quality')]\n",
    "        # Set up ranges of variables, and generate arguments to pass to model function\n",
    "        axis_ranges = dict((k, linspace(*(v+(M,)))) for k, v in kwds.items() if k in vs2d.selected)\n",
    "        array_kwds = meshed_arguments(vs2d.selected, kwds, axis_ranges)\n",
    "        shape = array_kwds[vs2d.selection['Horizontal axis']].shape\n",
    "        N = array_kwds[vs2d.selection['Horizontal axis']].size\n",
    "        array_kwds[vs2d.selection['Horizontal axis']].shape = N\n",
    "        array_kwds[vs2d.selection['Vertical axis']].shape = N\n",
    "        # Run the model\n",
    "        CV, FR = modelfunc(N, skip=skip, duration=duration, **array_kwds)\n",
    "        # Unflatten the results\n",
    "        CV.shape = shape\n",
    "        FR.shape = shape\n",
    "        # Apply smoothing to improve the appearance if desired\n",
    "        if smoothing:\n",
    "            if blur_width:\n",
    "                FR = nan_gaussian_filter(FR, blur_width*M, 10)\n",
    "                CV = nan_gaussian_filter(CV, blur_width*M, 10)\n",
    "            FR = zoom(FR, 100./M, order=1)\n",
    "            CV = zoom(CV, 100./M, order=1)\n",
    "        # The rest is plotting code\n",
    "        extent = (kwds[vs2d.selection['Horizontal axis']]+\n",
    "                  kwds[vs2d.selection['Vertical axis']])\n",
    "        def labelit(titletext):\n",
    "            title(titletext)\n",
    "            xlabel(sliders[vs2d.selection['Horizontal axis']].description)\n",
    "            ylabel(sliders[vs2d.selection['Vertical axis']].description)\n",
    "            cb = colorbar()\n",
    "            cb.set_label(titletext, rotation=270, labelpad=20)    \n",
    "            cs_cv = contour(CV, origin='lower', aspect='auto',\n",
    "                            levels=[0.15, 0.35, 0.8],\n",
    "                            colors='w',\n",
    "                            extent=extent,\n",
    "                            )\n",
    "            clabel(cs_cv, colors='w', inline=True, fmt='%.2f')\n",
    "            cs_rate = contour(FR, origin='lower', aspect='auto', linestyles='dashed',\n",
    "                              levels=[50, 100, 250, 400], colors='w',\n",
    "                              extent=extent,\n",
    "                              )\n",
    "            clabel(cs_rate, colors='w', inline=True, fmt='%d sp/s')\n",
    "        curfig = figure(1, figsize=(12, 5))\n",
    "        clf()\n",
    "        subplot(121)\n",
    "        imshow(CV, origin='lower left', aspect='auto',\n",
    "               interpolation='nearest',\n",
    "               cmap=cm.YlGnBu_r, vmin=0, vmax=1,\n",
    "               extent=extent)\n",
    "        # Hatched background for areas where CV couldn't be computed\n",
    "        p = patches.Rectangle((extent[0], extent[2]), extent[1]-extent[0], extent[3]-extent[2],\n",
    "                              hatch='xxx', fill=True, fc=(0.7,)*3, ec=(0.6,)*3, zorder=-10)\n",
    "        gca().add_patch(p)        \n",
    "        labelit('CV')\n",
    "        subplot(122)\n",
    "        imshow(FR, origin='lower left', aspect='auto',\n",
    "               interpolation='nearest',\n",
    "               cmap=cm.YlGnBu_r, vmin=0, #vmax=1,\n",
    "               extent=extent)\n",
    "        labelit('Firing rate (sp/s)')\n",
    "        tight_layout()\n",
    "    return plotter\n",
    "    \n",
    "def map2d(runmodel, vs2d):\n",
    "    def f():\n",
    "        params = vs2d.merge_selected(range_sliders, sliders)\n",
    "        params['quality'] = quality_slider\n",
    "        params['smoothing'] = True\n",
    "        i = ipw.interactive(plot2d(runmodel, vs2d), **params)\n",
    "        return no_continuous_update(i)\n",
    "    return f\n",
    "\n",
    "models = [('2D Map (raw model)', map2d(runmodel_raw_rel, vs2d_raw),\n",
    "               options2d_raw, [widget_savefig, progress_slider]),\n",
    "          ('2D Map (standard model)', map2d(runmodel_std, vs2d_std),\n",
    "               options2d_std, [widget_savefig, progress_slider]),\n",
    "         ]\n",
    "\n",
    "# Create model explorer, and jump immediately to results page\n",
    "modex = model_explorer(models)\n",
    "# modex.widget_model_type.value = '2D Map'\n",
    "modex.tabs.selected_index = 1\n",
    "modex"
   ]
  }
 ],
 "metadata": {
  "kernelspec": {
   "display_name": "Python 2",
   "language": "python",
   "name": "python2"
  },
  "language_info": {
   "codemirror_mode": {
    "name": "ipython",
    "version": 2
   },
   "file_extension": ".py",
   "mimetype": "text/x-python",
   "name": "python",
   "nbconvert_exporter": "python",
   "pygments_lexer": "ipython2",
   "version": "2.7.12"
  }
 },
 "nbformat": 4,
 "nbformat_minor": 0
}
